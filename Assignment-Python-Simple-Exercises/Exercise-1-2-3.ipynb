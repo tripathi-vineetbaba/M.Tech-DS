{
 "cells": [
  {
   "cell_type": "markdown",
   "metadata": {},
   "source": [
    "# 1\n",
    "Given a number, find the sum of its digits. Take the number as\n",
    "an input from the user"
   ]
  },
  {
   "cell_type": "code",
   "execution_count": null,
   "metadata": {},
   "outputs": [],
   "source": [
    "num=int(input(\"Enter Number : \"))\n",
    "sum_of_digit = 0\n",
    "while(num > 0):\n",
    "    temp=num%10\n",
    "    num=num//10\n",
    "    sum_of_digit += temp\n",
    "print(\"Sum of Digit : \", sum_of_digit)"
   ]
  },
  {
   "cell_type": "markdown",
   "metadata": {},
   "source": [
    "# 2\n",
    "Given a number, check whether the given number is an\n",
    "Armstrong number or not. A positive integer is called an\n",
    "Armstrong number of order n if:\n",
    "abcd... = an\n",
    " + bn + cn\n",
    " + dn\n",
    " + ...\n",
    "Example: 153 = 1^3 + 5^3 + 3^3\n",
    "153 is an Armstrong number of order 3.\n",
    "Inputs from the user will be number and order n."
   ]
  },
  {
   "cell_type": "code",
   "execution_count": null,
   "metadata": {},
   "outputs": [],
   "source": [
    "import math\n",
    "num=int(input('Enter Number To Check If number is Armstrong number or Not : '))\n",
    "order=int(input('Enter Order : '))\n",
    "#Creating temp varible to perform operation so that we can use actual variable for comparission\n",
    "x=num\n",
    "sum_of_cube=0\n",
    "while(x>0):\n",
    "    temp=x%10\n",
    "    cube=math.pow(temp,order)\n",
    "    sum_of_cube += cube\n",
    "    x=x//10\n",
    "if sum_of_cube == num :\n",
    "    print(\"Number is Armstrong Number\")\n",
    "else :\n",
    "    print(\"Number is not Armstrong Number\")"
   ]
  },
  {
   "cell_type": "markdown",
   "metadata": {},
   "source": [
    "# Random : \n",
    "Generate Armstrong Series between 1-1000"
   ]
  },
  {
   "cell_type": "code",
   "execution_count": null,
   "metadata": {},
   "outputs": [],
   "source": [
    "import math\n",
    "order=3\n",
    "for k in range(1,1000):\n",
    "    x=k\n",
    "    sum_of_cube=0\n",
    "    while(x>0):\n",
    "        temp=x%10\n",
    "        calc=math.pow(temp,order) \n",
    "        sum_of_cube += calc\n",
    "        x=x//10\n",
    "    if sum_of_cube == k :\n",
    "        print(\"Armstrong Number : \", k)"
   ]
  },
  {
   "cell_type": "markdown",
   "metadata": {},
   "source": [
    "# 3\n",
    "Given a string, write a python function to check if it is\n",
    "palindrome or not. A string is said to be palindrome if the reverse\n",
    "of the string is the same as string. For example, “malayalam” is a\n",
    "palindrome, but “music” is not a palindrome."
   ]
  },
  {
   "cell_type": "code",
   "execution_count": null,
   "metadata": {},
   "outputs": [],
   "source": [
    "string=input('Enter String to check if it is palindrome : ')\n",
    "if string == string[::-1]:\n",
    "    print(\"String is Palindrome\")\n",
    "else:\n",
    "    print(\"String is not Palindrome\")"
   ]
  },
  {
   "cell_type": "markdown",
   "metadata": {},
   "source": [
    "# 4\n",
    "Given an array which may contain duplicates, print all elements\n",
    "and their frequencies"
   ]
  },
  {
   "cell_type": "code",
   "execution_count": null,
   "metadata": {},
   "outputs": [],
   "source": [
    "#array=[132,265,132,132,133]\n",
    "array=[]\n",
    "len_ar=int(input(\"Enter Number of Elements for Array : \"))\n",
    "for i in range(len_ar):\n",
    "    element=int(input())\n",
    "    array.append(element)\n",
    "item={}\n",
    "for i in range(len_ar):\n",
    "    j=i+1\n",
    "    count=0\n",
    "    for j in range(len_ar):\n",
    "        if array[i]==array[j]:\n",
    "            count += 1\n",
    "    if array[i] not in item.keys():\n",
    "        item[array[i]]=count\n",
    "print(item)"
   ]
  },
  {
   "cell_type": "markdown",
   "metadata": {},
   "source": [
    "# 5\n",
    "Given a number n, write a function to print all prime factors of\n",
    "n. For example, if the input number is 12, then output should be\n",
    "“2 2 3”"
   ]
  },
  {
   "cell_type": "code",
   "execution_count": null,
   "metadata": {},
   "outputs": [],
   "source": [
    "n=int(input(\"Enter Number to find prime factorial : \"))\n",
    "count=0\n",
    "pf=''\n",
    "i=2\n",
    "while(n>1):\n",
    "    if n%i==0:\n",
    "        n=n/i\n",
    "        pf=pf+' '+str(i)\n",
    "    else:\n",
    "        i += 1\n",
    "print(pf)\n",
    "        "
   ]
  },
  {
   "cell_type": "markdown",
   "metadata": {},
   "source": [
    "# 6\n",
    "Given two numbers n and r, find the value of nCr (binomial\n",
    "coefficient: nCr = (n!) / (r! * (n-r)!))"
   ]
  },
  {
   "cell_type": "code",
   "execution_count": null,
   "metadata": {},
   "outputs": [],
   "source": [
    "def fact(n):\n",
    "    if n==1:\n",
    "        return 1\n",
    "    else:\n",
    "        calc=n*fact(n-1)\n",
    "        return calc\n",
    "    \n",
    "print(\"Enter 'n' and 'r' to find value of binomial coefficient nCr \")\n",
    "n=int(input('n = '))\n",
    "r=int(input('r = '))\n",
    "rem=n-r\n",
    "value=fact(n)/(fact(r)*fact(rem))\n",
    "print(value)"
   ]
  },
  {
   "cell_type": "markdown",
   "metadata": {},
   "source": [
    "# 7. \n",
    "Searching: Given a sorted array arr[] of n elements, write a\n",
    "function to search a given element x in arr[]. Do it using linear\n",
    "and binary search techniques."
   ]
  },
  {
   "cell_type": "markdown",
   "metadata": {},
   "source": [
    "# TBD"
   ]
  },
  {
   "cell_type": "markdown",
   "metadata": {},
   "source": [
    "# 8\n",
    "Input a text file (containing 1 or more paragraphs of English\n",
    "text) from the user, parse this file to display the frequency of\n",
    "occurrence of each word in this text file. Find the 3 most frequent\n",
    "words as well.\n",
    "\n"
   ]
  },
  {
   "cell_type": "code",
   "execution_count": null,
   "metadata": {},
   "outputs": [],
   "source": [
    "inputFileName=input(\"Enter file name with absolute path : \")\n",
    "freqWord=int(input(\"How many most frequent word you want : \"))\n",
    "\n",
    "with open(inputFileName,'r') as file :\n",
    "    output=file.read()\n",
    "    output_lwr=output.lower()\n",
    "    \n",
    "    \n",
    "    \n",
    "def count_freq(string):\n",
    "    item={}\n",
    "    lst_str=string.split()\n",
    "    len_str=len(lst_str)\n",
    "    for i in range(len_str):\n",
    "        j=i+1\n",
    "        count=0\n",
    "        for j in range(len_str):\n",
    "\n",
    "            if lst_str[i]==lst_str[j]:\n",
    "                count += 1\n",
    "        if lst_str[i] not in item.keys():\n",
    "            item[lst_str[i]]=count\n",
    "    return item\n",
    "\n",
    "def maxOccuranceWord(refDict,oriDict):\n",
    "    maxTemp=0\n",
    "    keyTemp=''\n",
    "    for key in oriDict:\n",
    "        if maxTemp <= oriDict[key] and key not in refDict:\n",
    "            maxTemp=oriDict[key]\n",
    "            keyTemp=key\n",
    "    refDict[keyTemp]=oriDict[keyTemp]\n",
    "    return refDict\n",
    "\n",
    "def getMaxThree(dictionary):\n",
    "    refferenceDictionary={}\n",
    "    dataDictionary=dictionary\n",
    "    refferenceDictionary=maxOccuranceWord(refferenceDictionary,dataDictionary)\n",
    "    while len(refferenceDictionary)<freqWord :\n",
    "        refferenceDictionary=maxOccuranceWord(refferenceDictionary,dataDictionary)\n",
    "    return refferenceDictionary\n",
    "        \n",
    "FreqDict=count_freq(output_lwr)\n",
    "max_n_occurence=getMaxThree(FreqDict)\n",
    "\n",
    "\n",
    "print(\"Frequency Of Occurence of Each Words :\")\n",
    "for key in FreqDict :\n",
    "    print(key,' -> ',str(FreqDict[key]))\n",
    "    \n",
    "print(\"\\n\\n\",str(freqWord),\" most frequent words and their counts :\")\n",
    "for key in max_n_occurence :\n",
    "    print(key,' -> ',str(max_n_occurence[key]))\n"
   ]
  },
  {
   "cell_type": "code",
   "execution_count": null,
   "metadata": {},
   "outputs": [],
   "source": []
  },
  {
   "cell_type": "code",
   "execution_count": null,
   "metadata": {},
   "outputs": [],
   "source": []
  },
  {
   "cell_type": "code",
   "execution_count": null,
   "metadata": {},
   "outputs": [],
   "source": []
  }
 ],
 "metadata": {
  "kernelspec": {
   "display_name": "Python 3",
   "language": "python",
   "name": "python3"
  },
  "language_info": {
   "codemirror_mode": {
    "name": "ipython",
    "version": 3
   },
   "file_extension": ".py",
   "mimetype": "text/x-python",
   "name": "python",
   "nbconvert_exporter": "python",
   "pygments_lexer": "ipython3",
   "version": "3.8.5"
  }
 },
 "nbformat": 4,
 "nbformat_minor": 4
}
